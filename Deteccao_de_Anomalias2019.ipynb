{
  "nbformat": 4,
  "nbformat_minor": 0,
  "metadata": {
    "colab": {
      "name": "Deteccao de Anomalias2019.ipynb",
      "provenance": [],
      "collapsed_sections": [],
      "include_colab_link": true
    },
    "kernelspec": {
      "name": "python3",
      "display_name": "Python 3"
    },
    "language_info": {
      "name": "python"
    }
  },
  "cells": [
    {
      "cell_type": "markdown",
      "metadata": {
        "id": "view-in-github",
        "colab_type": "text"
      },
      "source": [
        "<a href=\"https://colab.research.google.com/github/jfdac11/DataMiningPI/blob/develop/Deteccao_de_Anomalias2019.ipynb\" target=\"_parent\"><img src=\"https://colab.research.google.com/assets/colab-badge.svg\" alt=\"Open In Colab\"/></a>"
      ]
    },
    {
      "cell_type": "markdown",
      "metadata": {
        "id": "VVCws5PGKHpK"
      },
      "source": [
        "# Importação das Bibliotecas\n"
      ]
    },
    {
      "cell_type": "code",
      "metadata": {
        "id": "nLQ1hiTeLiSN"
      },
      "source": [
        "from sklearn.cluster import KMeans\n",
        "from numpy import argsort,sqrt\n",
        "from sklearn.preprocessing import scale\n",
        "import matplotlib.pyplot as plt\n",
        "import pandas as pd\n",
        "import numpy as np\n",
        "from matplotlib.pyplot import figure"
      ],
      "execution_count": null,
      "outputs": []
    },
    {
      "cell_type": "markdown",
      "metadata": {
        "id": "Z6CrcCRKLESY"
      },
      "source": [
        "# Importação da base de dados\n",
        "## Os arquivos serão importados pelo google drive da equipe"
      ]
    },
    {
      "cell_type": "code",
      "metadata": {
        "colab": {
          "base_uri": "https://localhost:8080/"
        },
        "id": "sqJA_ssA0kha",
        "outputId": "35473f6a-2c8b-4dc4-df49-bedeff5c2326"
      },
      "source": [
        "from google.colab import drive\n",
        "drive.mount('/content/drive')\n",
        "path = '/content/drive/Shareddrives/PI_2_2021'"
      ],
      "execution_count": null,
      "outputs": [
        {
          "output_type": "stream",
          "name": "stdout",
          "text": [
            "Mounted at /content/drive\n"
          ]
        }
      ]
    },
    {
      "cell_type": "code",
      "metadata": {
        "colab": {
          "base_uri": "https://localhost:8080/"
        },
        "id": "CNaABKqm1UFJ",
        "outputId": "4b3cb25a-6e6c-4fc3-b82d-b5eacdd671a3"
      },
      "source": [
        "df_2019 = pd.read_csv(path+'/Mortalidade_Geral_2019.csv', header=0, sep=';', low_memory=False, encoding='latin1')\n",
        "df_2019.shape"
      ],
      "execution_count": null,
      "outputs": [
        {
          "output_type": "execute_result",
          "data": {
            "text/plain": [
              "(1349801, 87)"
            ]
          },
          "metadata": {},
          "execution_count": 34
        }
      ]
    },
    {
      "cell_type": "code",
      "metadata": {
        "colab": {
          "base_uri": "https://localhost:8080/",
          "height": 255
        },
        "id": "wxywgIJ-2N_p",
        "outputId": "8c3f96ba-276e-4634-d95c-f580bf5830c5"
      },
      "source": [
        "df_2019.head()"
      ],
      "execution_count": null,
      "outputs": [
        {
          "output_type": "execute_result",
          "data": {
            "text/html": [
              "<div>\n",
              "<style scoped>\n",
              "    .dataframe tbody tr th:only-of-type {\n",
              "        vertical-align: middle;\n",
              "    }\n",
              "\n",
              "    .dataframe tbody tr th {\n",
              "        vertical-align: top;\n",
              "    }\n",
              "\n",
              "    .dataframe thead th {\n",
              "        text-align: right;\n",
              "    }\n",
              "</style>\n",
              "<table border=\"1\" class=\"dataframe\">\n",
              "  <thead>\n",
              "    <tr style=\"text-align: right;\">\n",
              "      <th></th>\n",
              "      <th>ORIGEM</th>\n",
              "      <th>TIPOBITO</th>\n",
              "      <th>DTOBITO</th>\n",
              "      <th>HORAOBITO</th>\n",
              "      <th>NATURAL</th>\n",
              "      <th>CODMUNNATU</th>\n",
              "      <th>DTNASC</th>\n",
              "      <th>IDADE</th>\n",
              "      <th>SEXO</th>\n",
              "      <th>RACACOR</th>\n",
              "      <th>ESTCIV</th>\n",
              "      <th>ESC</th>\n",
              "      <th>ESC2010</th>\n",
              "      <th>SERIESCFAL</th>\n",
              "      <th>OCUP</th>\n",
              "      <th>CODMUNRES</th>\n",
              "      <th>LOCOCOR</th>\n",
              "      <th>CODESTAB</th>\n",
              "      <th>ESTABDESCR</th>\n",
              "      <th>CODMUNOCOR</th>\n",
              "      <th>IDADEMAE</th>\n",
              "      <th>ESCMAE</th>\n",
              "      <th>ESCMAE2010</th>\n",
              "      <th>SERIESCMAE</th>\n",
              "      <th>OCUPMAE</th>\n",
              "      <th>QTDFILVIVO</th>\n",
              "      <th>QTDFILMORT</th>\n",
              "      <th>GRAVIDEZ</th>\n",
              "      <th>SEMAGESTAC</th>\n",
              "      <th>GESTACAO</th>\n",
              "      <th>PARTO</th>\n",
              "      <th>OBITOPARTO</th>\n",
              "      <th>PESO</th>\n",
              "      <th>TPMORTEOCO</th>\n",
              "      <th>OBITOGRAV</th>\n",
              "      <th>OBITOPUERP</th>\n",
              "      <th>ASSISTMED</th>\n",
              "      <th>EXAME</th>\n",
              "      <th>CIRURGIA</th>\n",
              "      <th>NECROPSIA</th>\n",
              "      <th>...</th>\n",
              "      <th>COMUNSVOIM</th>\n",
              "      <th>DTATESTADO</th>\n",
              "      <th>CIRCOBITO</th>\n",
              "      <th>ACIDTRAB</th>\n",
              "      <th>FONTE</th>\n",
              "      <th>NUMEROLOTE</th>\n",
              "      <th>TPPOS</th>\n",
              "      <th>DTINVESTIG</th>\n",
              "      <th>CAUSABAS_O</th>\n",
              "      <th>DTCADASTRO</th>\n",
              "      <th>ATESTANTE</th>\n",
              "      <th>STCODIFICA</th>\n",
              "      <th>CODIFICADO</th>\n",
              "      <th>VERSAOSIST</th>\n",
              "      <th>VERSAOSCB</th>\n",
              "      <th>FONTEINV</th>\n",
              "      <th>DTRECEBIM</th>\n",
              "      <th>ATESTADO</th>\n",
              "      <th>DTRECORIGA</th>\n",
              "      <th>CAUSAMAT</th>\n",
              "      <th>ESCMAEAGR1</th>\n",
              "      <th>ESCFALAGR1</th>\n",
              "      <th>STDOEPIDEM</th>\n",
              "      <th>STDONOVA</th>\n",
              "      <th>DIFDATA</th>\n",
              "      <th>NUDIASOBCO</th>\n",
              "      <th>NUDIASOBIN</th>\n",
              "      <th>DTCADINV</th>\n",
              "      <th>TPOBITOCOR</th>\n",
              "      <th>DTCONINV</th>\n",
              "      <th>FONTES</th>\n",
              "      <th>TPRESGINFO</th>\n",
              "      <th>TPNIVELINV</th>\n",
              "      <th>NUDIASINF</th>\n",
              "      <th>DTCADINF</th>\n",
              "      <th>MORTEPARTO</th>\n",
              "      <th>DTCONCASO</th>\n",
              "      <th>FONTESINF</th>\n",
              "      <th>ALTCAUSA</th>\n",
              "      <th>CONTADOR</th>\n",
              "    </tr>\n",
              "  </thead>\n",
              "  <tbody>\n",
              "    <tr>\n",
              "      <th>0</th>\n",
              "      <td>1</td>\n",
              "      <td>2</td>\n",
              "      <td>21012019</td>\n",
              "      <td>540.0</td>\n",
              "      <td>829.0</td>\n",
              "      <td>290750.0</td>\n",
              "      <td>18021961.0</td>\n",
              "      <td>457</td>\n",
              "      <td>1</td>\n",
              "      <td>2.0</td>\n",
              "      <td>1.0</td>\n",
              "      <td>2.0</td>\n",
              "      <td>1.0</td>\n",
              "      <td>NaN</td>\n",
              "      <td>512105.0</td>\n",
              "      <td>290750</td>\n",
              "      <td>1</td>\n",
              "      <td>2388685.0</td>\n",
              "      <td>NaN</td>\n",
              "      <td>290750</td>\n",
              "      <td>NaN</td>\n",
              "      <td>NaN</td>\n",
              "      <td>NaN</td>\n",
              "      <td>NaN</td>\n",
              "      <td>NaN</td>\n",
              "      <td>NaN</td>\n",
              "      <td>NaN</td>\n",
              "      <td>NaN</td>\n",
              "      <td>NaN</td>\n",
              "      <td>NaN</td>\n",
              "      <td>NaN</td>\n",
              "      <td>NaN</td>\n",
              "      <td>NaN</td>\n",
              "      <td>NaN</td>\n",
              "      <td>NaN</td>\n",
              "      <td>NaN</td>\n",
              "      <td>1.0</td>\n",
              "      <td>NaN</td>\n",
              "      <td>NaN</td>\n",
              "      <td>NaN</td>\n",
              "      <td>...</td>\n",
              "      <td>NaN</td>\n",
              "      <td>21012019.0</td>\n",
              "      <td>NaN</td>\n",
              "      <td>NaN</td>\n",
              "      <td>NaN</td>\n",
              "      <td>20190009.0</td>\n",
              "      <td>NaN</td>\n",
              "      <td>NaN</td>\n",
              "      <td>I120</td>\n",
              "      <td>12022019.0</td>\n",
              "      <td>2.0</td>\n",
              "      <td>S</td>\n",
              "      <td>S</td>\n",
              "      <td>3.2.00</td>\n",
              "      <td>3.2</td>\n",
              "      <td>NaN</td>\n",
              "      <td>13022019.0</td>\n",
              "      <td>R570/J81/I10/N189</td>\n",
              "      <td>13022019</td>\n",
              "      <td>NaN</td>\n",
              "      <td>NaN</td>\n",
              "      <td>10.0</td>\n",
              "      <td>0.0</td>\n",
              "      <td>1</td>\n",
              "      <td>23</td>\n",
              "      <td>NaN</td>\n",
              "      <td>NaN</td>\n",
              "      <td>NaN</td>\n",
              "      <td>NaN</td>\n",
              "      <td>NaN</td>\n",
              "      <td>NaN</td>\n",
              "      <td>NaN</td>\n",
              "      <td>NaN</td>\n",
              "      <td>NaN</td>\n",
              "      <td>NaN</td>\n",
              "      <td>NaN</td>\n",
              "      <td>NaN</td>\n",
              "      <td>NaN</td>\n",
              "      <td>NaN</td>\n",
              "      <td>1</td>\n",
              "    </tr>\n",
              "    <tr>\n",
              "      <th>1</th>\n",
              "      <td>1</td>\n",
              "      <td>2</td>\n",
              "      <td>28012019</td>\n",
              "      <td>1630.0</td>\n",
              "      <td>829.0</td>\n",
              "      <td>290070.0</td>\n",
              "      <td>3071938.0</td>\n",
              "      <td>480</td>\n",
              "      <td>2</td>\n",
              "      <td>NaN</td>\n",
              "      <td>1.0</td>\n",
              "      <td>1.0</td>\n",
              "      <td>0.0</td>\n",
              "      <td>NaN</td>\n",
              "      <td>999992.0</td>\n",
              "      <td>290750</td>\n",
              "      <td>1</td>\n",
              "      <td>2388685.0</td>\n",
              "      <td>NaN</td>\n",
              "      <td>290750</td>\n",
              "      <td>NaN</td>\n",
              "      <td>NaN</td>\n",
              "      <td>NaN</td>\n",
              "      <td>NaN</td>\n",
              "      <td>NaN</td>\n",
              "      <td>NaN</td>\n",
              "      <td>NaN</td>\n",
              "      <td>NaN</td>\n",
              "      <td>NaN</td>\n",
              "      <td>NaN</td>\n",
              "      <td>NaN</td>\n",
              "      <td>NaN</td>\n",
              "      <td>NaN</td>\n",
              "      <td>NaN</td>\n",
              "      <td>NaN</td>\n",
              "      <td>NaN</td>\n",
              "      <td>NaN</td>\n",
              "      <td>NaN</td>\n",
              "      <td>NaN</td>\n",
              "      <td>NaN</td>\n",
              "      <td>...</td>\n",
              "      <td>NaN</td>\n",
              "      <td>28012019.0</td>\n",
              "      <td>NaN</td>\n",
              "      <td>NaN</td>\n",
              "      <td>NaN</td>\n",
              "      <td>20190009.0</td>\n",
              "      <td>NaN</td>\n",
              "      <td>NaN</td>\n",
              "      <td>A419</td>\n",
              "      <td>12022019.0</td>\n",
              "      <td>NaN</td>\n",
              "      <td>S</td>\n",
              "      <td>S</td>\n",
              "      <td>3.2.00</td>\n",
              "      <td>3.2</td>\n",
              "      <td>NaN</td>\n",
              "      <td>13022019.0</td>\n",
              "      <td>A419</td>\n",
              "      <td>13022019</td>\n",
              "      <td>NaN</td>\n",
              "      <td>NaN</td>\n",
              "      <td>0.0</td>\n",
              "      <td>0.0</td>\n",
              "      <td>1</td>\n",
              "      <td>16</td>\n",
              "      <td>NaN</td>\n",
              "      <td>NaN</td>\n",
              "      <td>NaN</td>\n",
              "      <td>NaN</td>\n",
              "      <td>NaN</td>\n",
              "      <td>NaN</td>\n",
              "      <td>NaN</td>\n",
              "      <td>NaN</td>\n",
              "      <td>NaN</td>\n",
              "      <td>NaN</td>\n",
              "      <td>NaN</td>\n",
              "      <td>NaN</td>\n",
              "      <td>NaN</td>\n",
              "      <td>NaN</td>\n",
              "      <td>2</td>\n",
              "    </tr>\n",
              "    <tr>\n",
              "      <th>2</th>\n",
              "      <td>1</td>\n",
              "      <td>2</td>\n",
              "      <td>27012019</td>\n",
              "      <td>2320.0</td>\n",
              "      <td>829.0</td>\n",
              "      <td>290750.0</td>\n",
              "      <td>15111945.0</td>\n",
              "      <td>473</td>\n",
              "      <td>2</td>\n",
              "      <td>4.0</td>\n",
              "      <td>2.0</td>\n",
              "      <td>3.0</td>\n",
              "      <td>1.0</td>\n",
              "      <td>4.0</td>\n",
              "      <td>999992.0</td>\n",
              "      <td>290750</td>\n",
              "      <td>1</td>\n",
              "      <td>2388685.0</td>\n",
              "      <td>NaN</td>\n",
              "      <td>290750</td>\n",
              "      <td>NaN</td>\n",
              "      <td>NaN</td>\n",
              "      <td>NaN</td>\n",
              "      <td>NaN</td>\n",
              "      <td>NaN</td>\n",
              "      <td>NaN</td>\n",
              "      <td>NaN</td>\n",
              "      <td>NaN</td>\n",
              "      <td>NaN</td>\n",
              "      <td>NaN</td>\n",
              "      <td>NaN</td>\n",
              "      <td>NaN</td>\n",
              "      <td>NaN</td>\n",
              "      <td>NaN</td>\n",
              "      <td>NaN</td>\n",
              "      <td>NaN</td>\n",
              "      <td>NaN</td>\n",
              "      <td>NaN</td>\n",
              "      <td>NaN</td>\n",
              "      <td>NaN</td>\n",
              "      <td>...</td>\n",
              "      <td>NaN</td>\n",
              "      <td>27012019.0</td>\n",
              "      <td>NaN</td>\n",
              "      <td>NaN</td>\n",
              "      <td>NaN</td>\n",
              "      <td>20190009.0</td>\n",
              "      <td>NaN</td>\n",
              "      <td>NaN</td>\n",
              "      <td>E039</td>\n",
              "      <td>12022019.0</td>\n",
              "      <td>5.0</td>\n",
              "      <td>S</td>\n",
              "      <td>S</td>\n",
              "      <td>3.2.00</td>\n",
              "      <td>3.2</td>\n",
              "      <td>NaN</td>\n",
              "      <td>13022019.0</td>\n",
              "      <td>I500/I10/E039</td>\n",
              "      <td>13022019</td>\n",
              "      <td>NaN</td>\n",
              "      <td>NaN</td>\n",
              "      <td>2.0</td>\n",
              "      <td>0.0</td>\n",
              "      <td>1</td>\n",
              "      <td>17</td>\n",
              "      <td>NaN</td>\n",
              "      <td>NaN</td>\n",
              "      <td>NaN</td>\n",
              "      <td>NaN</td>\n",
              "      <td>NaN</td>\n",
              "      <td>NaN</td>\n",
              "      <td>NaN</td>\n",
              "      <td>NaN</td>\n",
              "      <td>NaN</td>\n",
              "      <td>NaN</td>\n",
              "      <td>NaN</td>\n",
              "      <td>NaN</td>\n",
              "      <td>NaN</td>\n",
              "      <td>NaN</td>\n",
              "      <td>4</td>\n",
              "    </tr>\n",
              "    <tr>\n",
              "      <th>3</th>\n",
              "      <td>1</td>\n",
              "      <td>2</td>\n",
              "      <td>12012019</td>\n",
              "      <td>2300.0</td>\n",
              "      <td>829.0</td>\n",
              "      <td>290750.0</td>\n",
              "      <td>4111971.0</td>\n",
              "      <td>447</td>\n",
              "      <td>1</td>\n",
              "      <td>4.0</td>\n",
              "      <td>2.0</td>\n",
              "      <td>4.0</td>\n",
              "      <td>3.0</td>\n",
              "      <td>3.0</td>\n",
              "      <td>NaN</td>\n",
              "      <td>290750</td>\n",
              "      <td>1</td>\n",
              "      <td>2388685.0</td>\n",
              "      <td>NaN</td>\n",
              "      <td>290750</td>\n",
              "      <td>NaN</td>\n",
              "      <td>NaN</td>\n",
              "      <td>NaN</td>\n",
              "      <td>NaN</td>\n",
              "      <td>NaN</td>\n",
              "      <td>NaN</td>\n",
              "      <td>NaN</td>\n",
              "      <td>NaN</td>\n",
              "      <td>NaN</td>\n",
              "      <td>NaN</td>\n",
              "      <td>NaN</td>\n",
              "      <td>NaN</td>\n",
              "      <td>NaN</td>\n",
              "      <td>NaN</td>\n",
              "      <td>NaN</td>\n",
              "      <td>NaN</td>\n",
              "      <td>1.0</td>\n",
              "      <td>NaN</td>\n",
              "      <td>NaN</td>\n",
              "      <td>2.0</td>\n",
              "      <td>...</td>\n",
              "      <td>NaN</td>\n",
              "      <td>12012019.0</td>\n",
              "      <td>NaN</td>\n",
              "      <td>NaN</td>\n",
              "      <td>NaN</td>\n",
              "      <td>20190009.0</td>\n",
              "      <td>NaN</td>\n",
              "      <td>NaN</td>\n",
              "      <td>R220</td>\n",
              "      <td>12022019.0</td>\n",
              "      <td>5.0</td>\n",
              "      <td>S</td>\n",
              "      <td>S</td>\n",
              "      <td>3.2.00</td>\n",
              "      <td>3.2</td>\n",
              "      <td>NaN</td>\n",
              "      <td>13022019.0</td>\n",
              "      <td>J960/R220</td>\n",
              "      <td>13022019</td>\n",
              "      <td>NaN</td>\n",
              "      <td>NaN</td>\n",
              "      <td>6.0</td>\n",
              "      <td>0.0</td>\n",
              "      <td>1</td>\n",
              "      <td>32</td>\n",
              "      <td>NaN</td>\n",
              "      <td>NaN</td>\n",
              "      <td>NaN</td>\n",
              "      <td>NaN</td>\n",
              "      <td>NaN</td>\n",
              "      <td>NaN</td>\n",
              "      <td>NaN</td>\n",
              "      <td>NaN</td>\n",
              "      <td>NaN</td>\n",
              "      <td>NaN</td>\n",
              "      <td>NaN</td>\n",
              "      <td>NaN</td>\n",
              "      <td>NaN</td>\n",
              "      <td>NaN</td>\n",
              "      <td>5</td>\n",
              "    </tr>\n",
              "    <tr>\n",
              "      <th>4</th>\n",
              "      <td>1</td>\n",
              "      <td>2</td>\n",
              "      <td>10012019</td>\n",
              "      <td>1726.0</td>\n",
              "      <td>829.0</td>\n",
              "      <td>292520.0</td>\n",
              "      <td>12101946.0</td>\n",
              "      <td>472</td>\n",
              "      <td>2</td>\n",
              "      <td>4.0</td>\n",
              "      <td>1.0</td>\n",
              "      <td>1.0</td>\n",
              "      <td>0.0</td>\n",
              "      <td>NaN</td>\n",
              "      <td>999992.0</td>\n",
              "      <td>290750</td>\n",
              "      <td>1</td>\n",
              "      <td>2388685.0</td>\n",
              "      <td>NaN</td>\n",
              "      <td>290750</td>\n",
              "      <td>NaN</td>\n",
              "      <td>NaN</td>\n",
              "      <td>NaN</td>\n",
              "      <td>NaN</td>\n",
              "      <td>NaN</td>\n",
              "      <td>NaN</td>\n",
              "      <td>NaN</td>\n",
              "      <td>NaN</td>\n",
              "      <td>NaN</td>\n",
              "      <td>NaN</td>\n",
              "      <td>NaN</td>\n",
              "      <td>NaN</td>\n",
              "      <td>NaN</td>\n",
              "      <td>NaN</td>\n",
              "      <td>NaN</td>\n",
              "      <td>NaN</td>\n",
              "      <td>NaN</td>\n",
              "      <td>NaN</td>\n",
              "      <td>NaN</td>\n",
              "      <td>NaN</td>\n",
              "      <td>...</td>\n",
              "      <td>NaN</td>\n",
              "      <td>10012019.0</td>\n",
              "      <td>NaN</td>\n",
              "      <td>NaN</td>\n",
              "      <td>NaN</td>\n",
              "      <td>20190009.0</td>\n",
              "      <td>NaN</td>\n",
              "      <td>NaN</td>\n",
              "      <td>C159</td>\n",
              "      <td>12022019.0</td>\n",
              "      <td>5.0</td>\n",
              "      <td>S</td>\n",
              "      <td>S</td>\n",
              "      <td>3.2.00</td>\n",
              "      <td>3.2</td>\n",
              "      <td>NaN</td>\n",
              "      <td>13022019.0</td>\n",
              "      <td>J960/C159</td>\n",
              "      <td>13022019</td>\n",
              "      <td>NaN</td>\n",
              "      <td>NaN</td>\n",
              "      <td>0.0</td>\n",
              "      <td>0.0</td>\n",
              "      <td>1</td>\n",
              "      <td>34</td>\n",
              "      <td>NaN</td>\n",
              "      <td>NaN</td>\n",
              "      <td>NaN</td>\n",
              "      <td>NaN</td>\n",
              "      <td>NaN</td>\n",
              "      <td>NaN</td>\n",
              "      <td>NaN</td>\n",
              "      <td>NaN</td>\n",
              "      <td>NaN</td>\n",
              "      <td>NaN</td>\n",
              "      <td>NaN</td>\n",
              "      <td>NaN</td>\n",
              "      <td>NaN</td>\n",
              "      <td>NaN</td>\n",
              "      <td>6</td>\n",
              "    </tr>\n",
              "  </tbody>\n",
              "</table>\n",
              "<p>5 rows × 87 columns</p>\n",
              "</div>"
            ],
            "text/plain": [
              "   ORIGEM  TIPOBITO   DTOBITO  ...  FONTESINF  ALTCAUSA  CONTADOR\n",
              "0       1         2  21012019  ...        NaN       NaN         1\n",
              "1       1         2  28012019  ...        NaN       NaN         2\n",
              "2       1         2  27012019  ...        NaN       NaN         4\n",
              "3       1         2  12012019  ...        NaN       NaN         5\n",
              "4       1         2  10012019  ...        NaN       NaN         6\n",
              "\n",
              "[5 rows x 87 columns]"
            ]
          },
          "metadata": {},
          "execution_count": 35
        }
      ]
    },
    {
      "cell_type": "markdown",
      "metadata": {
        "id": "Mnm5Mf5ybrYL"
      },
      "source": [
        "# Tratamento de dados NaN (Not a Number)\n",
        "## O algoritmo de clusterização do K-means não pode ser executado com dados NaN, por isso os dados NaN foram removidos da coluna que será utilizadaa para o agrupamento "
      ]
    },
    {
      "cell_type": "code",
      "metadata": {
        "id": "y02ZevkpPve3"
      },
      "source": [
        "df_2019 = df_2019.loc[df_2019.IDADE.notnull()]\n",
        "df_2019 = df_2019.reset_index(drop=True)"
      ],
      "execution_count": null,
      "outputs": []
    },
    {
      "cell_type": "markdown",
      "metadata": {
        "id": "nCzf3GM6dz36"
      },
      "source": [
        "# Preparação para a clusterização\n",
        "## Foi separada uma amostra de 100.000 tuplas para detecção de possíveis anomalias "
      ]
    },
    {
      "cell_type": "code",
      "metadata": {
        "id": "VqbIVt1lE8_V"
      },
      "source": [
        "DF = df_2019[[\"IDADE\"]][:100000]"
      ],
      "execution_count": null,
      "outputs": []
    },
    {
      "cell_type": "code",
      "metadata": {
        "id": "QrwBXR_wLmcb"
      },
      "source": [
        "x = DF.to_numpy()"
      ],
      "execution_count": null,
      "outputs": []
    },
    {
      "cell_type": "markdown",
      "metadata": {
        "id": "GQCux35mUraM"
      },
      "source": [
        "# Clusterização\n",
        "## Foi utilizado o algoritmo do K-Means para poder fazer o agrupamento dos dados, juntamente com o cálculo euclidiano da distância entre pontos.\n",
        "## Dessa forma os 150 pontos mais distantes serão considerados possíveis anomalias   "
      ]
    },
    {
      "cell_type": "code",
      "metadata": {
        "id": "U472ZaHpOTWg"
      },
      "source": [
        "def KmeansInstance(x):\n",
        "  kmeans = KMeans(n_clusters = 1).fit(x)\n",
        "  center = kmeans.cluster_centers_ \n",
        "  distance = np.sqrt((x - center)**2)\n",
        "  order_index = np.argsort(distance, axis = 0)\n",
        "  indexes = order_index[-150:]\n",
        "  values = x[indexes]\n",
        "  return indexes, values"
      ],
      "execution_count": null,
      "outputs": []
    },
    {
      "cell_type": "code",
      "metadata": {
        "id": "1yPsibSXOq3H"
      },
      "source": [
        "indexes, values = KmeansInstance(x)"
      ],
      "execution_count": null,
      "outputs": []
    },
    {
      "cell_type": "code",
      "metadata": {
        "colab": {
          "base_uri": "https://localhost:8080/"
        },
        "id": "7NuxstnGckHH",
        "outputId": "a11388b5-136a-4891-91c7-37b6fdfdd285"
      },
      "source": [
        "indexes[1,0]"
      ],
      "execution_count": null,
      "outputs": [
        {
          "output_type": "execute_result",
          "data": {
            "text/plain": [
              "6258"
            ]
          },
          "metadata": {},
          "execution_count": 81
        }
      ]
    },
    {
      "cell_type": "code",
      "metadata": {
        "colab": {
          "base_uri": "https://localhost:8080/",
          "height": 726
        },
        "id": "5oImDsbTWt5-",
        "outputId": "346d0d69-5788-4f49-d1ba-8b6145b9dcbe"
      },
      "source": [
        "\n",
        "x_ax = range(100000)\n",
        "figure(figsize=(24, 12), dpi=80)\n",
        "plt.plot(x_ax, x)\n",
        "plt.scatter(indexes, values, color='r').set_label(\"Possíveis Anomalias\")\n",
        "\n",
        "\n",
        "plt.ylabel('Idades')\n",
        "plt.title('Gráfico de Detecção de Possíveis Anomalias',fontdict={'fontsize': 16})\n",
        "plt.legend()  \n",
        "plt.show()"
      ],
      "execution_count": null,
      "outputs": [
        {
          "output_type": "display_data",
          "data": {
            "image/png": "[encoded data removed]",
            "text/plain": [
              "<Figure size 1920x960 with 1 Axes>"
            ]
          },
          "metadata": {
            "needs_background": "light"
          }
        }
      ]
    },
    {
      "cell_type": "code",
      "metadata": {
        "id": "cidUuRtcYUX2"
      },
      "source": [
        ""
      ],
      "execution_count": null,
      "outputs": []
    }
  ]
}