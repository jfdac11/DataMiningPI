{
 "cells": [
  {
   "cell_type": "code",
   "execution_count": 4,
   "id": "c3ba27e1",
   "metadata": {},
   "outputs": [],
   "source": [
    "import pandas as pd\n",
    "import matplotlib.pyplot as plt\n",
    "import numpy as np\n",
    "import pandas as pd\n",
    "import matplotlib.pyplot as plt\n",
    "import numpy as np"
   ]
  },
  {
   "cell_type": "code",
   "execution_count": 5,
   "id": "4b272e14",
   "metadata": {},
   "outputs": [],
   "source": [
    "pd.set_option('display.max_rows', 1000)\n",
    "pd.set_option('display.max_columns', 500)"
   ]
  },
  {
   "cell_type": "code",
   "execution_count": 9,
   "id": "d673f42c",
   "metadata": {},
   "outputs": [
    {
     "data": {
      "text/plain": [
       "(500000, 21)"
      ]
     },
     "execution_count": 9,
     "metadata": {},
     "output_type": "execute_result"
    }
   ],
   "source": [
    "df_2020 = pd.read_csv('../../dobrano_2020_pre_preprocessado.csv', sep=';', low_memory=False, encoding='latin1')\n",
    "df_2020.shape"
   ]
  },
  {
   "cell_type": "code",
   "execution_count": 37,
   "id": "e0a2b1ea",
   "metadata": {},
   "outputs": [],
   "source": [
    "df = df_2020.loc[df_2020['CIRCOBITO'].isnull()]"
   ]
  },
  {
   "cell_type": "code",
   "execution_count": 38,
   "id": "2cda6017",
   "metadata": {},
   "outputs": [
    {
     "name": "stderr",
     "output_type": "stream",
     "text": [
      "C:\\Users\\Acer\\anaconda3\\lib\\site-packages\\pandas\\core\\indexing.py:1720: SettingWithCopyWarning: \n",
      "A value is trying to be set on a copy of a slice from a DataFrame.\n",
      "Try using .loc[row_indexer,col_indexer] = value instead\n",
      "\n",
      "See the caveats in the documentation: https://pandas.pydata.org/pandas-docs/stable/user_guide/indexing.html#returning-a-view-versus-a-copy\n",
      "  self._setitem_single_column(loc, value, pi)\n"
     ]
    }
   ],
   "source": [
    "df.loc[((df['OCUPACAO'].isnull()) & (df['GRUPO_OCUPACAO'].isnull())), ['GRUPO_OCUPACAO']] = 'SEM OCUPAÇÃO'"
   ]
  },
  {
   "cell_type": "code",
   "execution_count": 39,
   "id": "dbfe4b54",
   "metadata": {
    "scrolled": true
   },
   "outputs": [],
   "source": [
    "df.loc[((df['OCUPACAO'].isnull()) & (df['GRUPO_OCUPACAO'] == 'SEM OCUPAÇÃO')), ['OCUPACAO']] = 'SEM OCUPAÇÃO'"
   ]
  },
  {
   "cell_type": "code",
   "execution_count": 40,
   "id": "c25e950f",
   "metadata": {},
   "outputs": [],
   "source": [
    "df.loc[((df['OCUPACAO'].isnull()) & (df['GRUPO_OCUPACAO'] != 'SEM OCUPAÇÃO')), ['OCUPACAO']] = 'NÃO ESPECIFICADO'"
   ]
  },
  {
   "cell_type": "code",
   "execution_count": 44,
   "id": "e4895b45",
   "metadata": {},
   "outputs": [
    {
     "data": {
      "text/plain": [
       "0         Outras causas mal definidas e as não especific...\n",
       "1         Outras causas mal definidas e as não especific...\n",
       "2         Doença diverticular do intestino, de localizaç...\n",
       "3                          Insuficiência respiratória aguda\n",
       "4                               Septicemia não especificada\n",
       "                                ...                        \n",
       "499994          Infarto agudo do miocárdio não especificado\n",
       "499995                  Neoplasia maligna do cólon sigmóide\n",
       "499996                                           Senilidade\n",
       "499998                                  Doença de Parkinson\n",
       "499999    Tuberculose respiratória, não especificada, se...\n",
       "Name: CAUSA_BASICA, Length: 454432, dtype: object"
      ]
     },
     "execution_count": 44,
     "metadata": {},
     "output_type": "execute_result"
    }
   ],
   "source": [
    "df['CAUSA_BASICA'].dropna()"
   ]
  },
  {
   "cell_type": "code",
   "execution_count": 45,
   "id": "e22681c8",
   "metadata": {},
   "outputs": [
    {
     "data": {
      "text/html": [
       "<div>\n",
       "<style scoped>\n",
       "    .dataframe tbody tr th:only-of-type {\n",
       "        vertical-align: middle;\n",
       "    }\n",
       "\n",
       "    .dataframe tbody tr th {\n",
       "        vertical-align: top;\n",
       "    }\n",
       "\n",
       "    .dataframe thead th {\n",
       "        text-align: right;\n",
       "    }\n",
       "</style>\n",
       "<table border=\"1\" class=\"dataframe\">\n",
       "  <thead>\n",
       "    <tr style=\"text-align: right;\">\n",
       "      <th></th>\n",
       "      <th>IDADE</th>\n",
       "      <th>SEXO</th>\n",
       "      <th>RACACOR</th>\n",
       "      <th>ESC2010</th>\n",
       "      <th>LOCOCOR</th>\n",
       "      <th>CODMUNOCOR</th>\n",
       "      <th>ASSISTMED</th>\n",
       "      <th>CIRCOBITO</th>\n",
       "      <th>FONTE</th>\n",
       "      <th>DIA_NASC</th>\n",
       "      <th>MES_NASC</th>\n",
       "      <th>ANO_NASC</th>\n",
       "      <th>DIA_OBITO</th>\n",
       "      <th>MES_OBITO</th>\n",
       "      <th>ANO_OBITO</th>\n",
       "      <th>ANOS_IDADE</th>\n",
       "      <th>ESTADO</th>\n",
       "      <th>GRUPO_CAUSA_BASICA</th>\n",
       "      <th>CAUSA_BASICA</th>\n",
       "      <th>OCUPACAO</th>\n",
       "      <th>GRUPO_OCUPACAO</th>\n",
       "    </tr>\n",
       "  </thead>\n",
       "  <tbody>\n",
       "    <tr>\n",
       "      <th>0</th>\n",
       "      <td>68.0</td>\n",
       "      <td>M</td>\n",
       "      <td>BRANCA</td>\n",
       "      <td>EF_I</td>\n",
       "      <td>DOMICILIO</td>\n",
       "      <td>316930</td>\n",
       "      <td>NAO</td>\n",
       "      <td>NaN</td>\n",
       "      <td>NaN</td>\n",
       "      <td>10</td>\n",
       "      <td>5.0</td>\n",
       "      <td>1951.0</td>\n",
       "      <td>25</td>\n",
       "      <td>1</td>\n",
       "      <td>2020</td>\n",
       "      <td>68.0</td>\n",
       "      <td>MG</td>\n",
       "      <td>Causas mal definidas e desconhecidas de mortal...</td>\n",
       "      <td>Outras causas mal definidas e as não especific...</td>\n",
       "      <td>NÃO ESPECIFICADO</td>\n",
       "      <td>TRABALHADORES EM SERVIÇOS DE REPARAÇÃO E MANUT...</td>\n",
       "    </tr>\n",
       "    <tr>\n",
       "      <th>1</th>\n",
       "      <td>53.0</td>\n",
       "      <td>M</td>\n",
       "      <td>PRETA</td>\n",
       "      <td>EF_I</td>\n",
       "      <td>DOMICILIO</td>\n",
       "      <td>316930</td>\n",
       "      <td>NAO</td>\n",
       "      <td>NaN</td>\n",
       "      <td>NaN</td>\n",
       "      <td>16</td>\n",
       "      <td>3.0</td>\n",
       "      <td>1966.0</td>\n",
       "      <td>25</td>\n",
       "      <td>1</td>\n",
       "      <td>2020</td>\n",
       "      <td>53.0</td>\n",
       "      <td>MG</td>\n",
       "      <td>Causas mal definidas e desconhecidas de mortal...</td>\n",
       "      <td>Outras causas mal definidas e as não especific...</td>\n",
       "      <td>Trabalhador agropecuário em geral</td>\n",
       "      <td>TRABALHADORES AGROPECUÁRIOS, FLORESTAIS E DA P...</td>\n",
       "    </tr>\n",
       "    <tr>\n",
       "      <th>2</th>\n",
       "      <td>82.0</td>\n",
       "      <td>F</td>\n",
       "      <td>BRANCA</td>\n",
       "      <td>EF_I</td>\n",
       "      <td>HOSPITAL</td>\n",
       "      <td>316930</td>\n",
       "      <td>NaN</td>\n",
       "      <td>NaN</td>\n",
       "      <td>NaN</td>\n",
       "      <td>10</td>\n",
       "      <td>7.0</td>\n",
       "      <td>1937.0</td>\n",
       "      <td>14</td>\n",
       "      <td>1</td>\n",
       "      <td>2020</td>\n",
       "      <td>82.0</td>\n",
       "      <td>MG</td>\n",
       "      <td>Outras doenças dos intestinos</td>\n",
       "      <td>Doença diverticular do intestino, de localizaç...</td>\n",
       "      <td>NÃO ESPECIFICADO</td>\n",
       "      <td>TRABALHADORES EM SERVIÇOS DE REPARAÇÃO E MANUT...</td>\n",
       "    </tr>\n",
       "    <tr>\n",
       "      <th>3</th>\n",
       "      <td>73.0</td>\n",
       "      <td>F</td>\n",
       "      <td>BRANCA</td>\n",
       "      <td>EF_I</td>\n",
       "      <td>HOSPITAL</td>\n",
       "      <td>316930</td>\n",
       "      <td>SIM</td>\n",
       "      <td>NaN</td>\n",
       "      <td>NaN</td>\n",
       "      <td>2</td>\n",
       "      <td>11.0</td>\n",
       "      <td>1946.0</td>\n",
       "      <td>20</td>\n",
       "      <td>1</td>\n",
       "      <td>2020</td>\n",
       "      <td>73.0</td>\n",
       "      <td>MG</td>\n",
       "      <td>Outras doenças do aparelho respiratório</td>\n",
       "      <td>Insuficiência respiratória aguda</td>\n",
       "      <td>NÃO ESPECIFICADO</td>\n",
       "      <td>TRABALHADORES EM SERVIÇOS DE REPARAÇÃO E MANUT...</td>\n",
       "    </tr>\n",
       "    <tr>\n",
       "      <th>4</th>\n",
       "      <td>60.0</td>\n",
       "      <td>M</td>\n",
       "      <td>BRANCA</td>\n",
       "      <td>SUPERIOR_C</td>\n",
       "      <td>HOSPITAL</td>\n",
       "      <td>316930</td>\n",
       "      <td>SIM</td>\n",
       "      <td>NaN</td>\n",
       "      <td>NaN</td>\n",
       "      <td>12</td>\n",
       "      <td>9.0</td>\n",
       "      <td>1959.0</td>\n",
       "      <td>26</td>\n",
       "      <td>1</td>\n",
       "      <td>2020</td>\n",
       "      <td>60.0</td>\n",
       "      <td>MG</td>\n",
       "      <td>Outras doenças bacterianas</td>\n",
       "      <td>Septicemia não especificada</td>\n",
       "      <td>Professor da  educação de jovens e adultos do ...</td>\n",
       "      <td>PROFISSIONAIS DAS CIÊNCIAS E DAS ARTES        ...</td>\n",
       "    </tr>\n",
       "  </tbody>\n",
       "</table>\n",
       "</div>"
      ],
      "text/plain": [
       "   IDADE SEXO RACACOR     ESC2010    LOCOCOR  CODMUNOCOR ASSISTMED CIRCOBITO  \\\n",
       "0   68.0    M  BRANCA        EF_I  DOMICILIO      316930       NAO       NaN   \n",
       "1   53.0    M   PRETA        EF_I  DOMICILIO      316930       NAO       NaN   \n",
       "2   82.0    F  BRANCA        EF_I   HOSPITAL      316930       NaN       NaN   \n",
       "3   73.0    F  BRANCA        EF_I   HOSPITAL      316930       SIM       NaN   \n",
       "4   60.0    M  BRANCA  SUPERIOR_C   HOSPITAL      316930       SIM       NaN   \n",
       "\n",
       "  FONTE  DIA_NASC  MES_NASC  ANO_NASC  DIA_OBITO  MES_OBITO  ANO_OBITO  \\\n",
       "0   NaN        10       5.0    1951.0         25          1       2020   \n",
       "1   NaN        16       3.0    1966.0         25          1       2020   \n",
       "2   NaN        10       7.0    1937.0         14          1       2020   \n",
       "3   NaN         2      11.0    1946.0         20          1       2020   \n",
       "4   NaN        12       9.0    1959.0         26          1       2020   \n",
       "\n",
       "   ANOS_IDADE ESTADO                                 GRUPO_CAUSA_BASICA  \\\n",
       "0        68.0     MG  Causas mal definidas e desconhecidas de mortal...   \n",
       "1        53.0     MG  Causas mal definidas e desconhecidas de mortal...   \n",
       "2        82.0     MG                      Outras doenças dos intestinos   \n",
       "3        73.0     MG            Outras doenças do aparelho respiratório   \n",
       "4        60.0     MG                         Outras doenças bacterianas   \n",
       "\n",
       "                                        CAUSA_BASICA  \\\n",
       "0  Outras causas mal definidas e as não especific...   \n",
       "1  Outras causas mal definidas e as não especific...   \n",
       "2  Doença diverticular do intestino, de localizaç...   \n",
       "3                   Insuficiência respiratória aguda   \n",
       "4                        Septicemia não especificada   \n",
       "\n",
       "                                            OCUPACAO  \\\n",
       "0                                   NÃO ESPECIFICADO   \n",
       "1                  Trabalhador agropecuário em geral   \n",
       "2                                   NÃO ESPECIFICADO   \n",
       "3                                   NÃO ESPECIFICADO   \n",
       "4  Professor da  educação de jovens e adultos do ...   \n",
       "\n",
       "                                      GRUPO_OCUPACAO  \n",
       "0  TRABALHADORES EM SERVIÇOS DE REPARAÇÃO E MANUT...  \n",
       "1  TRABALHADORES AGROPECUÁRIOS, FLORESTAIS E DA P...  \n",
       "2  TRABALHADORES EM SERVIÇOS DE REPARAÇÃO E MANUT...  \n",
       "3  TRABALHADORES EM SERVIÇOS DE REPARAÇÃO E MANUT...  \n",
       "4  PROFISSIONAIS DAS CIÊNCIAS E DAS ARTES        ...  "
      ]
     },
     "execution_count": 45,
     "metadata": {},
     "output_type": "execute_result"
    }
   ],
   "source": [
    "df.head()"
   ]
  },
  {
   "cell_type": "code",
   "execution_count": null,
   "id": "da3ad06a",
   "metadata": {},
   "outputs": [],
   "source": [
    "df_2020 = df_2020.drop(columns=['LOCOCOR', 'COD'])"
   ]
  }
 ],
 "metadata": {
  "kernelspec": {
   "display_name": "Python 3",
   "language": "python",
   "name": "python3"
  },
  "language_info": {
   "codemirror_mode": {
    "name": "ipython",
    "version": 3
   },
   "file_extension": ".py",
   "mimetype": "text/x-python",
   "name": "python",
   "nbconvert_exporter": "python",
   "pygments_lexer": "ipython3",
   "version": "3.8.8"
  }
 },
 "nbformat": 4,
 "nbformat_minor": 5
}
